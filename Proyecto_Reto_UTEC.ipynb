{
  "nbformat": 4,
  "nbformat_minor": 0,
  "metadata": {
    "colab": {
      "provenance": [],
      "include_colab_link": true
    },
    "kernelspec": {
      "name": "python3",
      "display_name": "Python 3"
    },
    "language_info": {
      "name": "python"
    }
  },
  "cells": [
    {
      "cell_type": "markdown",
      "metadata": {
        "id": "view-in-github",
        "colab_type": "text"
      },
      "source": [
        "<a href=\"https://colab.research.google.com/github/BlackPavvn/CAEX-Challenge/blob/develop/Proyecto_Reto_UTEC.ipynb\" target=\"_parent\"><img src=\"https://colab.research.google.com/assets/colab-badge.svg\" alt=\"Open In Colab\"/></a>"
      ]
    },
    {
      "cell_type": "markdown",
      "source": [
        "### Predicción de mantenimiento en camiones CAEX"
      ],
      "metadata": {
        "id": "xWNp5VOT_-iy"
      }
    },
    {
      "cell_type": "code",
      "execution_count": 2,
      "metadata": {
        "id": "Jg02Iy5ALlkn"
      },
      "outputs": [],
      "source": [
        "!apt-get install openjdk-11-jdk -qq > /dev/null"
      ]
    },
    {
      "cell_type": "code",
      "source": [
        "!wget https://archive.apache.org/dist/spark/spark-3.4.1/spark-3.4.1-bin-hadoop3.tgz"
      ],
      "metadata": {
        "colab": {
          "base_uri": "https://localhost:8080/"
        },
        "id": "eN8g_IV56soj",
        "outputId": "1eeb54e5-70bc-44aa-bde8-20f69eaec28d"
      },
      "execution_count": 6,
      "outputs": [
        {
          "output_type": "stream",
          "name": "stdout",
          "text": [
            "--2025-07-07 17:27:19--  https://archive.apache.org/dist/spark/spark-3.4.1/spark-3.4.1-bin-hadoop3.tgz\n",
            "Resolving archive.apache.org (archive.apache.org)... 65.108.204.189, 2a01:4f9:1a:a084::2\n",
            "Connecting to archive.apache.org (archive.apache.org)|65.108.204.189|:443... connected.\n",
            "HTTP request sent, awaiting response... 200 OK\n",
            "Length: 388341449 (370M) [application/x-gzip]\n",
            "Saving to: ‘spark-3.4.1-bin-hadoop3.tgz’\n",
            "\n",
            "spark-3.4.1-bin-had 100%[===================>] 370.35M  8.23MB/s    in 37s     \n",
            "\n",
            "2025-07-07 17:27:57 (9.94 MB/s) - ‘spark-3.4.1-bin-hadoop3.tgz’ saved [388341449/388341449]\n",
            "\n"
          ]
        }
      ]
    },
    {
      "cell_type": "code",
      "source": [
        "!tar xf spark-3.4.1-bin-hadoop3.tgz"
      ],
      "metadata": {
        "id": "hxft00ba65b0"
      },
      "execution_count": 7,
      "outputs": []
    },
    {
      "cell_type": "code",
      "source": [
        "!pip install -q findspark"
      ],
      "metadata": {
        "id": "O7UrTfBP67RU"
      },
      "execution_count": 8,
      "outputs": []
    },
    {
      "cell_type": "code",
      "source": [
        "import os\n",
        "os.environ[\"JAVA_HOME\"] = \"/usr/lib/jvm/java-11-openjdk-amd64\"\n",
        "os.environ[\"SPARK_HOME\"] = \"/content/spark-3.4.1-bin-hadoop3\"\n",
        "\n",
        "import findspark\n",
        "findspark.init()"
      ],
      "metadata": {
        "id": "1T4kcmJm7ctg"
      },
      "execution_count": 10,
      "outputs": []
    },
    {
      "cell_type": "code",
      "source": [
        "from pyspark.sql import SparkSession\n",
        "\n",
        "spark = SparkSession.builder \\\n",
        "    .appName(\"RetoUTEC\") \\\n",
        "    .getOrCreate()"
      ],
      "metadata": {
        "id": "m4oOh84X77t-"
      },
      "execution_count": 11,
      "outputs": []
    },
    {
      "cell_type": "code",
      "source": [
        "test_1 = spark.read.option(\"header\", True).csv(f\"/content/alertas.csv\", inferSchema=True)\n",
        "test_2 = spark.read.option(\"header\", True).csv(f\"/content/manual_motor.csv\", inferSchema=True)\n",
        "\n",
        "test_1.printSchema()\n",
        "print(test_2.count())"
      ],
      "metadata": {
        "colab": {
          "base_uri": "https://localhost:8080/"
        },
        "id": "pNyCMjcc9KR4",
        "outputId": "1d05fe56-0f03-4a5e-e09e-ed52fca8596c"
      },
      "execution_count": 18,
      "outputs": [
        {
          "output_type": "stream",
          "name": "stdout",
          "text": [
            "root\n",
            " |-- _id: string (nullable = true)\n",
            " |-- awhen: timestamp (nullable = true)\n",
            " |-- idfalla: integer (nullable = true)\n",
            " |-- serie: string (nullable = true)\n",
            " |-- modelo: string (nullable = true)\n",
            " |-- tipo: integer (nullable = true)\n",
            " |-- codigo: string (nullable = true)\n",
            " |-- descripcion: string (nullable = true)\n",
            " |-- fecha1: timestamp (nullable = true)\n",
            " |-- valor1: double (nullable = true)\n",
            " |-- fecha2: timestamp (nullable = true)\n",
            " |-- valor2: double (nullable = true)\n",
            " |-- cont: integer (nullable = true)\n",
            " |-- fecharecepcion: timestamp (nullable = true)\n",
            "\n",
            "197\n"
          ]
        }
      ]
    },
    {
      "cell_type": "code",
      "source": [
        "test_3 = spark.read.option(\"header\", True).csv(f\"/content/mnp_caex_v1.csv\", inferSchema=True)\n",
        "test_3.show(3,0)"
      ],
      "metadata": {
        "id": "hYvU7Qsp-WLZ",
        "outputId": "4d865a42-3242-4b7b-8521-0796f2418ab6",
        "colab": {
          "base_uri": "https://localhost:8080/"
        }
      },
      "execution_count": 17,
      "outputs": [
        {
          "output_type": "stream",
          "name": "stdout",
          "text": [
            "+------------------------+-----------------------+----------+------------+-------------------------------------------+---------+-----+--------------+----------+---------+-------------------+-------------------+-------+----------+-------+----------------------------------------+------------+------------------------+\n",
            "|_id                     |awhen                  |status    |statussymbol|reason                                     |equipment|fleet|equipment_type|location  |shiftname|startlocal         |endlocal           |crew   |pay_number|id     |comment                                 |symbol      |name                    |\n",
            "+------------------------+-----------------------+----------+------------+-------------------------------------------+---------+-----+--------------+----------+---------+-------------------+-------------------+-------+----------+-------+----------------------------------------+------------+------------------------+\n",
            "|61f44383a2b9f391b446ff03|2022-03-08 01:23:57.079|Mantencion|down        |MANTENCION NO PROGRAMADA                   |C307     |0.093|Truck         |CM1_004_CH|B        |2021-12-07 00:40:59|2021-12-07 11:00:00|GRUPO 1|566.889006|2761181|Fuga por flexible de aplicacion de freno|mnp_mecanica|MANTENCION NO PROGRAMADA|\n",
            "|61f44383a2b9f391b446ff22|2022-03-08 01:23:57.084|Mantencion|down        |MANTENCION NO PROGRAMADA                   |C312     |0.093|Truck         |AUX021    |B        |2021-12-06 23:35:05|2021-12-07 02:02:18|GRUPO 1|null      |2761146|Alarma de motor de partida              |mnp_mecanica|MANTENCION NO PROGRAMADA|\n",
            "|61f44383a2b9f391b446ff7b|2022-03-08 01:23:57.1  |Mantencion|down        |SISTEMA DE LUBRICACION (Indicar comentario)|C306     |0.093|Truck         |STOCK_S_1 |B        |2021-12-06 23:00:00|2021-12-07 11:00:00|GRUPO 1|null      |0      |null                                    |mnp_mecanica|MANTENCION NO PROGRAMADA|\n",
            "+------------------------+-----------------------+----------+------------+-------------------------------------------+---------+-----+--------------+----------+---------+-------------------+-------------------+-------+----------+-------+----------------------------------------+------------+------------------------+\n",
            "only showing top 3 rows\n",
            "\n"
          ]
        }
      ]
    },
    {
      "cell_type": "code",
      "source": [],
      "metadata": {
        "id": "sPKE-E93-jl7"
      },
      "execution_count": null,
      "outputs": []
    }
  ]
}